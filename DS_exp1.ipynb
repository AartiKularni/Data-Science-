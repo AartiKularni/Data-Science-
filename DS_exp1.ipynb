{
  "nbformat": 4,
  "nbformat_minor": 0,
  "metadata": {
    "colab": {
      "provenance": [],
      "include_colab_link": true
    },
    "kernelspec": {
      "name": "python3",
      "display_name": "Python 3"
    },
    "language_info": {
      "name": "python"
    }
  },
  "cells": [
    {
      "cell_type": "markdown",
      "metadata": {
        "id": "view-in-github",
        "colab_type": "text"
      },
      "source": [
        "<a href=\"https://colab.research.google.com/github/AartiKularni/Data-Science-/blob/main/DS_exp1.ipynb\" target=\"_parent\"><img src=\"https://colab.research.google.com/assets/colab-badge.svg\" alt=\"Open In Colab\"/></a>"
      ]
    },
    {
      "cell_type": "code",
      "execution_count": null,
      "metadata": {
        "colab": {
          "base_uri": "https://localhost:8080/"
        },
        "id": "S5tAuze2DQKs",
        "outputId": "eee651c5-487e-4f5f-8522-277974c3a5d0"
      },
      "outputs": [
        {
          "output_type": "stream",
          "name": "stdout",
          "text": [
            "1D Array: [1 2 3 4 5]\n",
            "2D Array: [[1 2 3]\n",
            " [4 5 6]]\n"
          ]
        }
      ],
      "source": [
        "# 1. Creating Arrays\n",
        "\n",
        "import numpy as np\n",
        "\n",
        "# Create a 1D array\n",
        "array_1d = np.array([1, 2, 3, 4, 5])\n",
        "print(\"1D Array:\", array_1d)\n",
        "\n",
        "# Create a 2D array\n",
        "array_2d = np.array([[1, 2, 3], [4, 5, 6]])\n",
        "print(\"2D Array:\", array_2d)\n"
      ]
    },
    {
      "cell_type": "code",
      "source": [
        "#2. Array Operations\n",
        "\n",
        "# Element-wise operations\n",
        "array_1 = np.array([1, 2, 3])\n",
        "array_2 = np.array([4, 5, 6])\n",
        "\n",
        "print(\"Addition:\", array_1 + array_2)\n",
        "print(\"Multiplication:\", array_1 * array_2)\n",
        "\n",
        "# Aggregation functions\n",
        "print(\"Sum:\", np.sum(array_1))\n",
        "print(\"Mean:\", np.mean(array_1))\n"
      ],
      "metadata": {
        "colab": {
          "base_uri": "https://localhost:8080/"
        },
        "id": "uthNEGo9DeEh",
        "outputId": "3a74514b-65cf-4c34-8de5-5ed1d99e23fe"
      },
      "execution_count": null,
      "outputs": [
        {
          "output_type": "stream",
          "name": "stdout",
          "text": [
            "Addition: [5 7 9]\n",
            "Multiplication: [ 4 10 18]\n",
            "Sum: 6\n",
            "Mean: 2.0\n"
          ]
        }
      ]
    },
    {
      "cell_type": "code",
      "source": [
        "#3. Creating Series and DataFrames\n",
        "\n",
        "import pandas as pd\n",
        "\n",
        "# Create a Series\n",
        "series = pd.Series([1, 2, 3, 4, 5])\n",
        "print(\"Series:\\n\", series)\n",
        "\n",
        "# Create a DataFrame\n",
        "data = {'Name': ['John', 'Anna', 'Peter', 'Linda'],\n",
        "        'Age': [28, 24, 35, 32],\n",
        "        'City': ['New York', 'Paris', 'Berlin', 'London']}\n",
        "df = pd.DataFrame(data)\n",
        "print(\"DataFrame:\\n\", df)\n"
      ],
      "metadata": {
        "colab": {
          "base_uri": "https://localhost:8080/"
        },
        "id": "JAiWu2oTDjEW",
        "outputId": "8a4aae0f-e317-46c7-fea3-5d98875ef6d4"
      },
      "execution_count": null,
      "outputs": [
        {
          "output_type": "stream",
          "name": "stdout",
          "text": [
            "Series:\n",
            " 0    1\n",
            "1    2\n",
            "2    3\n",
            "3    4\n",
            "4    5\n",
            "dtype: int64\n",
            "DataFrame:\n",
            "     Name  Age      City\n",
            "0   John   28  New York\n",
            "1   Anna   24     Paris\n",
            "2  Peter   35    Berlin\n",
            "3  Linda   32    London\n"
          ]
        }
      ]
    },
    {
      "cell_type": "code",
      "source": [
        "#4. DataFrame Indexing and Selection\n",
        "\n",
        "# Selecting a column\n",
        "print(\"Age column:\\n\", df['Age'])\n",
        "\n",
        "# Selecting multiple columns\n",
        "print(\"Name and City columns:\\n\", df[['Name', 'City']])\n",
        "\n",
        "# Filtering rows\n",
        "print(\"Rows where Age > 30:\\n\", df[df['Age'] > 30])\n"
      ],
      "metadata": {
        "colab": {
          "base_uri": "https://localhost:8080/"
        },
        "id": "wdh1uizxDukh",
        "outputId": "68881982-e26f-4bc0-c9eb-66cb4c831329"
      },
      "execution_count": null,
      "outputs": [
        {
          "output_type": "stream",
          "name": "stdout",
          "text": [
            "Age column:\n",
            " 0    28\n",
            "1    24\n",
            "2    35\n",
            "3    32\n",
            "Name: Age, dtype: int64\n",
            "Name and City columns:\n",
            "     Name      City\n",
            "0   John  New York\n",
            "1   Anna     Paris\n",
            "2  Peter    Berlin\n",
            "3  Linda    London\n",
            "Rows where Age > 30:\n",
            "     Name  Age    City\n",
            "2  Peter   35  Berlin\n",
            "3  Linda   32  London\n"
          ]
        }
      ]
    },
    {
      "cell_type": "code",
      "source": [
        "#Program 1\n",
        "import pandas as pd\n",
        "import numpy as np\n",
        "\n",
        "# Step 1: Create a synthetic dataset\n",
        "data = {\n",
        "    'Name': ['Alice', 'Bob', 'Charlie', 'David', 'Eva'],\n",
        "    'Age': [25, 30, 22, 28, 24],\n",
        "    'Salary': [50000, 60000, 55000, 65000, 52000],\n",
        "    'Department': ['HR', 'IT', 'Marketing', 'IT', 'Finance']\n",
        "}\n",
        "\n",
        "df = pd.DataFrame(data)\n",
        "\n",
        "# Display the dataset\n",
        "print(\"Original Dataset:\")\n",
        "print(df)\n",
        "print(\"\\n\")\n",
        "\n",
        "# Step 2: Add, modify, and delete columns\n",
        "# Add a new column 'Experience'\n",
        "df['Experience'] = [2, 5, 1, 4, 2]\n",
        "\n",
        "# Modify 'Salary' by increasing it by 10%\n",
        "df['Salary'] = df['Salary'] * 1.1\n",
        "\n",
        "# Delete the 'Department' column\n",
        "df = df.drop(columns=['Department'])\n",
        "\n",
        "# Display the modified dataset\n",
        "print(\"Modified Dataset:\")\n",
        "print(df)\n",
        "print(\"\\n\")\n",
        "\n",
        "# Step 3: Filter and select data\n",
        "# Select rows where Age is greater than 24\n",
        "filtered_df = df[df['Age'] > 24]\n",
        "\n",
        "# Display the filtered dataset\n",
        "print(\"Filtered Dataset (Age > 24):\")\n",
        "print(filtered_df)\n",
        "print(\"\\n\")\n",
        "\n",
        "# Step 4: Handle missing values\n",
        "# Add missing values to the 'Experience' column\n",
        "df.loc[2, 'Experience'] = np.nan\n",
        "\n",
        "# Fill missing values with the mean of the column\n",
        "df['Experience'].fillna(df['Experience'].mean(), inplace=True)\n",
        "\n",
        "# Display the dataset with missing values handled\n",
        "print(\"Dataset with Missing Values Handled:\")\n",
        "print(df)\n",
        "print(\"\\n\")\n",
        "\n",
        "# Step 5: Sort and aggregate data\n",
        "# Sort the dataset by 'Age' in descending order\n",
        "sorted_df = df.sort_values(by='Age', ascending=False)\n",
        "\n",
        "# Group the dataset by 'Experience' and calculate the mean salary\n",
        "grouped_df = df.groupby('Experience')['Salary'].mean().reset_index()\n",
        "\n",
        "# Display the sorted and aggregated datasets\n",
        "print(\"Sorted Dataset (by Age):\")\n",
        "print(sorted_df)\n",
        "print(\"\\n\")\n",
        "\n",
        "print(\"Aggregated Dataset (Mean Salary by Experience):\")\n",
        "print(grouped_df)\n"
      ],
      "metadata": {
        "colab": {
          "base_uri": "https://localhost:8080/"
        },
        "id": "rxZupPFuD8Eu",
        "outputId": "2bd38212-1275-4751-cc3a-2fcae7bf2dca"
      },
      "execution_count": null,
      "outputs": [
        {
          "output_type": "stream",
          "name": "stdout",
          "text": [
            "Original Dataset:\n",
            "      Name  Age  Salary Department\n",
            "0    Alice   25   50000         HR\n",
            "1      Bob   30   60000         IT\n",
            "2  Charlie   22   55000  Marketing\n",
            "3    David   28   65000         IT\n",
            "4      Eva   24   52000    Finance\n",
            "\n",
            "\n",
            "Modified Dataset:\n",
            "      Name  Age   Salary  Experience\n",
            "0    Alice   25  55000.0           2\n",
            "1      Bob   30  66000.0           5\n",
            "2  Charlie   22  60500.0           1\n",
            "3    David   28  71500.0           4\n",
            "4      Eva   24  57200.0           2\n",
            "\n",
            "\n",
            "Filtered Dataset (Age > 24):\n",
            "    Name  Age   Salary  Experience\n",
            "0  Alice   25  55000.0           2\n",
            "1    Bob   30  66000.0           5\n",
            "3  David   28  71500.0           4\n",
            "\n",
            "\n",
            "Dataset with Missing Values Handled:\n",
            "      Name  Age   Salary  Experience\n",
            "0    Alice   25  55000.0        2.00\n",
            "1      Bob   30  66000.0        5.00\n",
            "2  Charlie   22  60500.0        3.25\n",
            "3    David   28  71500.0        4.00\n",
            "4      Eva   24  57200.0        2.00\n",
            "\n",
            "\n",
            "Sorted Dataset (by Age):\n",
            "      Name  Age   Salary  Experience\n",
            "1      Bob   30  66000.0        5.00\n",
            "3    David   28  71500.0        4.00\n",
            "0    Alice   25  55000.0        2.00\n",
            "4      Eva   24  57200.0        2.00\n",
            "2  Charlie   22  60500.0        3.25\n",
            "\n",
            "\n",
            "Aggregated Dataset (Mean Salary by Experience):\n",
            "   Experience   Salary\n",
            "0        2.00  56100.0\n",
            "1        3.25  60500.0\n",
            "2        4.00  71500.0\n",
            "3        5.00  66000.0\n"
          ]
        },
        {
          "output_type": "stream",
          "name": "stderr",
          "text": [
            "/tmp/ipython-input-5-285196012.py:49: FutureWarning: A value is trying to be set on a copy of a DataFrame or Series through chained assignment using an inplace method.\n",
            "The behavior will change in pandas 3.0. This inplace method will never work because the intermediate object on which we are setting values always behaves as a copy.\n",
            "\n",
            "For example, when doing 'df[col].method(value, inplace=True)', try using 'df.method({col: value}, inplace=True)' or df[col] = df[col].method(value) instead, to perform the operation inplace on the original object.\n",
            "\n",
            "\n",
            "  df['Experience'].fillna(df['Experience'].mean(), inplace=True)\n"
          ]
        }
      ]
    },
    {
      "cell_type": "code",
      "source": [
        "# Program 2\n",
        "\n",
        "# Import necessary libraries\n",
        "import pandas as pd\n",
        "\n",
        "# Step 1: Create a Dataset\n",
        "# We create a simple dataset representing employee information.\n",
        "data = {\n",
        "    'Employee_ID': [101, 102, 103, 104, 105],\n",
        "    'First_Name': ['John', 'Alice', 'Bob', 'Charlie', 'Eva'],\n",
        "    'Last_Name': ['Doe', 'Smith', 'Johnson', 'Brown', 'Johnson'],\n",
        "    'Age': [35, 28, 42, 45, 22],\n",
        "    'Department': ['HR', 'Engineering', 'IT', 'Finance', 'Sales']\n",
        "}\n",
        "\n",
        "# Create a DataFrame using the dataset\n",
        "employee_df = pd.DataFrame(data)\n",
        "\n",
        "# Step 2: Simulate Data Collection Methods\n",
        "# In practice, data collection methods may involve surveys, web scraping, or other techniques.\n",
        "# For this example, we'll add a new employee using simulated data collection.\n",
        "\n",
        "new_employee = {\n",
        "    'Employee_ID': 106,\n",
        "    'First_Name': 'Frank',\n",
        "    'Last_Name': 'Wong',\n",
        "    'Age': 38,\n",
        "    'Department': 'HR'\n",
        "}\n",
        "\n",
        "# Add the new employee to the dataset\n",
        "employee_df = pd.concat([employee_df, pd.DataFrame([new_employee])], ignore_index=True)\n",
        "\n",
        "\n",
        "# Step 3: Organize the Data\n",
        "# Use Pandas to structure and organize the collected data.\n",
        "\n",
        "# Display the final dataset\n",
        "print(\"Employee Dataset:\")\n",
        "print(employee_df)\n",
        "\n"
      ],
      "metadata": {
        "colab": {
          "base_uri": "https://localhost:8080/"
        },
        "id": "UBPnLZe9EFXl",
        "outputId": "c24fd68c-5e3c-4887-898c-c5adf89a784a"
      },
      "execution_count": 1,
      "outputs": [
        {
          "output_type": "stream",
          "name": "stdout",
          "text": [
            "Employee Dataset:\n",
            "   Employee_ID First_Name Last_Name  Age   Department\n",
            "0          101       John       Doe   35           HR\n",
            "1          102      Alice     Smith   28  Engineering\n",
            "2          103        Bob   Johnson   42           IT\n",
            "3          104    Charlie     Brown   45      Finance\n",
            "4          105        Eva   Johnson   22        Sales\n",
            "5          106      Frank      Wong   38           HR\n"
          ]
        }
      ]
    }
  ]
}